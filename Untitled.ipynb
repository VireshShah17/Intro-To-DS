{
 "cells": [
  {
   "cell_type": "code",
   "execution_count": 4,
   "id": "6e96b333",
   "metadata": {},
   "outputs": [],
   "source": [
    "import pandas as pd\n",
    "import numpy as np\n",
    "from sklearn.model_selection import train_test_split\n",
    "from sklearn.linear_model import LinearRegression\n",
    "from sklearn.metrics import mean_squared_error"
   ]
  },
  {
   "cell_type": "code",
   "execution_count": 2,
   "id": "89895fc4",
   "metadata": {},
   "outputs": [],
   "source": [
    "# Generating synthetic actor data\n",
    "np.random.seed(42)"
   ]
  },
  {
   "cell_type": "code",
   "execution_count": 3,
   "id": "e4c049f5",
   "metadata": {},
   "outputs": [
    {
     "name": "stdout",
     "output_type": "stream",
     "text": [
      "  Actor_Name  Debut_Year  Number_of_Films  Age\n",
      "0    Actor_1        2008               48   36\n",
      "1    Actor_2        1998               23   48\n",
      "2    Actor_3        1984               24   61\n",
      "3    Actor_4        1977               37   71\n",
      "4    Actor_5        1990               35   63\n"
     ]
    }
   ],
   "source": [
    "# Actor names (for illustration, real-world data would have more features)\n",
    "actors = ['Actor_' + str(i) for i in range(1, 101)]\n",
    "debut_years = np.random.randint(1970, 2010, size=100)  # Years between 1970 and 2010\n",
    "num_films = np.random.randint(1, 50, size=100)  # Number of films between 1 and 50\n",
    "current_year = 2024\n",
    "ages = current_year - debut_years + np.random.randint(20, 30, size=100)  # Age based on debut year and random addition\n",
    "\n",
    "# Creating a DataFrame\n",
    "data = pd.DataFrame({\n",
    "    'Actor_Name': actors,\n",
    "    'Debut_Year': debut_years,\n",
    "    'Number_of_Films': num_films,\n",
    "    'Age': ages\n",
    "})\n",
    "\n",
    "# Display the first few rows of the dataset\n",
    "print(data.head())\n",
    "\n",
    "# Save to CSV\n",
    "data.to_csv('actor_age_dataset.csv', index=False)"
   ]
  },
  {
   "cell_type": "code",
   "execution_count": 5,
   "id": "8e59e361",
   "metadata": {},
   "outputs": [],
   "source": [
    "# Load the generated dataset\n",
    "data = pd.read_csv('actor_age_dataset.csv')\n",
    "\n",
    "# Features (Debut_Year, Number_of_Films) and target (Age)\n",
    "X = data[['Debut_Year', 'Number_of_Films']]\n",
    "y = data['Age']"
   ]
  },
  {
   "cell_type": "code",
   "execution_count": 6,
   "id": "58d227c2",
   "metadata": {},
   "outputs": [],
   "source": [
    "# Split the data into training and testing sets (80% train, 20% test)\n",
    "X_train, X_test, y_train, y_test = train_test_split(X, y, test_size=0.2, random_state=42)"
   ]
  },
  {
   "cell_type": "code",
   "execution_count": 7,
   "id": "5861208e",
   "metadata": {},
   "outputs": [
    {
     "data": {
      "text/plain": [
       "LinearRegression()"
      ]
     },
     "execution_count": 7,
     "metadata": {},
     "output_type": "execute_result"
    }
   ],
   "source": [
    "# Initialize the Linear Regression model\n",
    "model = LinearRegression()\n",
    "\n",
    "# Train the model\n",
    "model.fit(X_train, y_train)"
   ]
  },
  {
   "cell_type": "code",
   "execution_count": 8,
   "id": "71440dba",
   "metadata": {},
   "outputs": [
    {
     "name": "stdout",
     "output_type": "stream",
     "text": [
      "Mean Squared Error: 11.206875618547993\n",
      "Predicted Age: 71.82, Actual Age: 67\n",
      "Predicted Age: 77.81, Actual Age: 79\n",
      "Predicted Age: 63.03, Actual Age: 66\n",
      "Predicted Age: 72.08, Actual Age: 77\n",
      "Predicted Age: 50.20, Actual Age: 53\n"
     ]
    }
   ],
   "source": [
    "# Predict on the test set\n",
    "y_pred = model.predict(X_test)\n",
    "\n",
    "# Calculate the Mean Squared Error\n",
    "mse = mean_squared_error(y_test, y_pred)\n",
    "print(f'Mean Squared Error: {mse}')\n",
    "\n",
    "# Display some predictions along with the actual ages\n",
    "for i in range(5):\n",
    "    print(f\"Predicted Age: {y_pred[i]:.2f}, Actual Age: {y_test.values[i]}\")"
   ]
  },
  {
   "cell_type": "code",
   "execution_count": null,
   "id": "e5bb0518",
   "metadata": {},
   "outputs": [],
   "source": []
  }
 ],
 "metadata": {
  "kernelspec": {
   "display_name": "Python 3 (ipykernel)",
   "language": "python",
   "name": "python3"
  },
  "language_info": {
   "codemirror_mode": {
    "name": "ipython",
    "version": 3
   },
   "file_extension": ".py",
   "mimetype": "text/x-python",
   "name": "python",
   "nbconvert_exporter": "python",
   "pygments_lexer": "ipython3",
   "version": "3.9.13"
  }
 },
 "nbformat": 4,
 "nbformat_minor": 5
}
